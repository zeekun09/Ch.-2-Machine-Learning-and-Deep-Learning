{
  "cells": [
    {
      "cell_type": "markdown",
      "metadata": {
        "id": "Avr_BuLrV23M"
      },
      "source": [
        "# Assignment Chapter 2 - MACHINE LEARNING [Case #1]\n",
        "Startup Campus, Indonesia - `Artificial Intelligence (AI)` (Batch 7)\n",
        "* Dataset: SC_HW1_bank_data\n",
        "* Libraries: Pandas, Numpy, Scikit-learn\n",
        "* Objective: Classification with Supervised Machine Learning Models\n",
        "\n",
        "`PERSYARATAN` Semua modul (termasuk versi yang sesuai) sudah di-install dengan benar.\n",
        "<br>`CARA PENGERJAAN` Lengkapi baris kode yang ditandai dengan **#TODO**.\n",
        "<br>`TARGET PORTFOLIO` Peserta mampu membandingkan akurasi klasifikasi dari berbagai model *supervised learning*."
      ]
    },
    {
      "cell_type": "markdown",
      "metadata": {
        "id": "RUIg363RYcAZ"
      },
      "source": [
        "### Import Library"
      ]
    },
    {
      "cell_type": "code",
      "execution_count": null,
      "metadata": {
        "id": "CWrO8BImYcAa"
      },
      "outputs": [],
      "source": [
        "import pandas as pd\n",
        "import numpy as np\n",
        "\n",
        "from sklearn.preprocessing import MinMaxScaler\n",
        "from sklearn.model_selection import train_test_split as tts\n",
        "from sklearn.model_selection import GridSearchCV\n",
        "\n",
        "from sklearn.metrics import classification_report\n",
        "from sklearn.metrics import accuracy_score\n",
        "from sklearn.metrics import confusion_matrix"
      ]
    },
    {
      "cell_type": "markdown",
      "metadata": {
        "id": "p_wYppbCYcAb"
      },
      "source": [
        "### Read Dataset"
      ]
    },
    {
      "cell_type": "code",
      "execution_count": null,
      "metadata": {
        "id": "bU29IupsYcAb",
        "colab": {
          "base_uri": "https://localhost:8080/"
        },
        "outputId": "de749105-36e4-4d71-c7b2-cd12ac33d8d7"
      },
      "outputs": [
        {
          "output_type": "execute_result",
          "data": {
            "text/plain": [
              "Index(['RowNumber', 'CustomerId', 'Geography', 'Gender', 'Age', 'Tenure',\n",
              "       'Balance', 'NumOfProducts', 'HasCrCard', 'IsActiveMember',\n",
              "       'EstimatedSalary', 'Exited'],\n",
              "      dtype='object')"
            ]
          },
          "metadata": {},
          "execution_count": 2
        }
      ],
      "source": [
        "df = pd.read_csv('https://raw.githubusercontent.com/Rietaros/kampus_merdeka/main/SC_HW1_bank_data.csv')\n",
        "df.columns"
      ]
    },
    {
      "cell_type": "code",
      "execution_count": null,
      "metadata": {
        "id": "ySBcdpGy4rb3"
      },
      "outputs": [],
      "source": [
        "# TODO: Hilangkan kolom yang tidak relevan untuk pemodelan\n",
        "df = df[['Geography', 'Gender', 'Age', 'Tenure',\n",
        "       'Balance', 'NumOfProducts', 'HasCrCard', 'IsActiveMember',\n",
        "       'EstimatedSalary', 'Exited']].copy()"
      ]
    },
    {
      "cell_type": "markdown",
      "metadata": {
        "id": "VAUrcQVIYcAe"
      },
      "source": [
        "### Preprocessing"
      ]
    },
    {
      "cell_type": "code",
      "execution_count": null,
      "metadata": {
        "id": "owVHMXqEYcAe"
      },
      "outputs": [],
      "source": [
        "# TODO: Lakukan One-Hot Encoder untuk data kategorikal, dengan fungsi pd.get_dummies\n",
        "df = pd.get_dummies(df, columns=['Geography', 'Gender'], drop_first=True)"
      ]
    },
    {
      "cell_type": "code",
      "execution_count": null,
      "metadata": {
        "id": "zMNWzfUbYcAf"
      },
      "outputs": [],
      "source": [
        "# TODO: Pisahkan fitur (X) dengan target (Y), dimana Y merujuk ke kolom \"Exited\"\n",
        "X = df.drop('Exited', axis=1)\n",
        "y = df['Exited']"
      ]
    },
    {
      "cell_type": "code",
      "execution_count": null,
      "metadata": {
        "id": "XWfdSiCxYcAg"
      },
      "outputs": [],
      "source": [
        "scaler = MinMaxScaler() # TODO: Lakukan scaling atau normalisasi\n",
        "X_transform = scaler.fit_transform(X)"
      ]
    },
    {
      "cell_type": "code",
      "execution_count": null,
      "metadata": {
        "id": "W5u5pH3uYcAg"
      },
      "outputs": [],
      "source": [
        "# Bagian ini digunakan jika Anda melakukan scaling atau normalisasi.\n",
        "# Jika tidak, code ini bisa dilewati dan diganti dengan code yang ada di dalam comment.\n",
        "\n",
        "X_transform = pd.DataFrame(X_transform, columns = X.columns)\n",
        "# X_transform = X.copy()"
      ]
    },
    {
      "cell_type": "markdown",
      "metadata": {
        "id": "4Pi0qKQAYcAh"
      },
      "source": [
        "### Train-Test Split"
      ]
    },
    {
      "cell_type": "code",
      "execution_count": null,
      "metadata": {
        "id": "0RDnybGDYcAh"
      },
      "outputs": [],
      "source": [
        "X_train ,X_test, y_train, y_test = tts(X_transform, y, test_size = 0.25, random_state = 123)"
      ]
    },
    {
      "cell_type": "markdown",
      "metadata": {
        "id": "9PPYhjm3YcAi"
      },
      "source": [
        "### Model #1"
      ]
    },
    {
      "cell_type": "code",
      "execution_count": null,
      "metadata": {
        "id": "HkPl_ixW74q6"
      },
      "outputs": [],
      "source": [
        "# [ PERTANYAAN ]\n",
        "# TODO: Jelaskan secara singkat model #1 yang Anda gunakan."
      ]
    },
    {
      "cell_type": "markdown",
      "metadata": {
        "id": "SnjttPHb74q6"
      },
      "source": [
        "[ ANSWER HERE ]<br>\n",
        "**Random Forest Classifier**<br>\n",
        "ini adalah algoritma pembelajaran mesin ansambel yang menggunakan beberapa pohon keputusan untuk mengklasifikasikan data. untuk akurasi cenderung tinggi dan dapat mengatasi masalah overfitting dengan baik.untuk bagian kompleks menengah hingga tinggi, tergantung pada jumlah pohon dan kedalaman maksimum biasanya digunakan pada masalah klasifikasi dan regresi dengan data yang besar dan kompleks."
      ]
    },
    {
      "cell_type": "code",
      "execution_count": null,
      "metadata": {
        "id": "bnqFXuCyYcAk",
        "colab": {
          "base_uri": "https://localhost:8080/"
        },
        "outputId": "b1e4d0f4-08d0-43d9-892f-3474d5460a0b"
      },
      "outputs": [
        {
          "output_type": "execute_result",
          "data": {
            "text/plain": [
              "{'max_depth': 20,\n",
              " 'min_samples_leaf': 4,\n",
              " 'min_samples_split': 5,\n",
              " 'n_estimators': 100}"
            ]
          },
          "metadata": {},
          "execution_count": 10
        }
      ],
      "source": [
        "from sklearn.ensemble import RandomForestClassifier\n",
        "\n",
        "# Define the model and parameters\n",
        "model1 = RandomForestClassifier()\n",
        "params1 = {\n",
        "    'n_estimators': [100, 200, 300],\n",
        "    'max_depth': [None, 10, 20, 30],\n",
        "    'min_samples_split': [2, 5, 10],\n",
        "    'min_samples_leaf': [1, 2, 4]\n",
        "}\n",
        "\n",
        "# Perform hyperparameter tuning\n",
        "grid1 = GridSearchCV(\n",
        "    estimator=model1,\n",
        "    param_grid=params1,\n",
        "    scoring='accuracy',\n",
        "    n_jobs=10,  # Use multiple cores\n",
        "    cv=10  # 10-fold cross-validation\n",
        ")\n",
        "\n",
        "grid1.fit(X_train, y_train)\n",
        "grid1.best_params_"
      ]
    },
    {
      "cell_type": "code",
      "execution_count": null,
      "metadata": {
        "id": "1f32JE8kYcAk",
        "colab": {
          "base_uri": "https://localhost:8080/"
        },
        "outputId": "8c95ac9d-b5c3-46cc-ecc3-2b7957b7c1d8"
      },
      "outputs": [
        {
          "output_type": "stream",
          "name": "stdout",
          "text": [
            "              precision    recall  f1-score   support\n",
            "\n",
            "           0       0.87      0.96      0.92      1983\n",
            "           1       0.77      0.46      0.58       517\n",
            "\n",
            "    accuracy                           0.86      2500\n",
            "   macro avg       0.82      0.71      0.75      2500\n",
            "weighted avg       0.85      0.86      0.85      2500\n",
            "\n",
            "Random Forest Classifier:\n",
            "[[1913   70]\n",
            " [ 278  239]]\n",
            "Accuracy: \n",
            "86.08%\n"
          ]
        }
      ],
      "source": [
        "y_pred1 = grid1.predict(X_test)\n",
        "\n",
        "# Evaluation\n",
        "print(classification_report(y_test, y_pred1))\n",
        "print(\"Random Forest Classifier:\")\n",
        "print(confusion_matrix(y_test, y_pred1))\n",
        "print(\"Accuracy: \")\n",
        "print(f\"{accuracy_score(y_test, y_pred1)* 100:.2f}%\")"
      ]
    },
    {
      "cell_type": "markdown",
      "metadata": {
        "id": "_LdO7tCz74q7"
      },
      "source": [
        "### Model #2"
      ]
    },
    {
      "cell_type": "code",
      "execution_count": null,
      "metadata": {
        "id": "MfsRRgBg74q7"
      },
      "outputs": [],
      "source": [
        "# [ PERTANYAAN ]\n",
        "# TODO: Jelaskan secara singkat model #2 yang Anda gunakan."
      ]
    },
    {
      "cell_type": "markdown",
      "metadata": {
        "id": "-n6EBS6k74q7"
      },
      "source": [
        "[ ANSWER HERE ]<br>\n",
        "**Gradient Boosting Classifier**<br>\n",
        "ini adalah teknik pembelajaran mesin yang didasarkan pada peningkatan dalam ruang fungsional, yang targetnya adalah residu semu, bukan residu seperti pada peningkatan tradisional.. untuk Akurasi Umumnya tinggi dan mampu menangani fitur yang berinteraksi secara kompleks. Kompleksitasnya Tinggi. Memerlukan pengaturan hyperparameter yang cermat. Penggunaan Umumnya Kompetisi machine learning dan masalah klasifikasi yang kompleks."
      ]
    },
    {
      "cell_type": "code",
      "execution_count": null,
      "metadata": {
        "id": "y3qUGFn374q7",
        "colab": {
          "base_uri": "https://localhost:8080/"
        },
        "outputId": "c72aa524-4a0c-40e0-a552-d3b543c95644"
      },
      "outputs": [
        {
          "output_type": "execute_result",
          "data": {
            "text/plain": [
              "{'learning_rate': 0.01, 'max_depth': 5, 'n_estimators': 300, 'subsample': 0.8}"
            ]
          },
          "metadata": {},
          "execution_count": 13
        }
      ],
      "source": [
        "from sklearn.ensemble import GradientBoostingClassifier\n",
        "\n",
        "# Define the model and parameters\n",
        "model2 = GradientBoostingClassifier()\n",
        "params2 = {\n",
        "    'n_estimators': [100, 200, 300],\n",
        "    'learning_rate': [0.01, 0.1, 0.2],\n",
        "    'max_depth': [3, 4, 5],\n",
        "    'subsample': [0.8, 1.0]\n",
        "}\n",
        "\n",
        "# Perform hyperparameter tuning\n",
        "grid2 = GridSearchCV(\n",
        "    estimator=model2,\n",
        "    param_grid=params2,\n",
        "    scoring='accuracy',\n",
        "    n_jobs=10,  # Use multiple cores\n",
        "    cv=10  # 10-fold cross-validation\n",
        ")\n",
        "\n",
        "grid2.fit(X_train, y_train)\n",
        "grid2.best_params_"
      ]
    },
    {
      "cell_type": "code",
      "execution_count": null,
      "metadata": {
        "id": "AjqtZH1_74q7",
        "colab": {
          "base_uri": "https://localhost:8080/"
        },
        "outputId": "2173fa7a-1a3d-4ce4-cda4-a4b0642e75bc"
      },
      "outputs": [
        {
          "output_type": "stream",
          "name": "stdout",
          "text": [
            "              precision    recall  f1-score   support\n",
            "\n",
            "           0       0.88      0.97      0.92      1983\n",
            "           1       0.80      0.47      0.59       517\n",
            "\n",
            "    accuracy                           0.87      2500\n",
            "   macro avg       0.84      0.72      0.76      2500\n",
            "weighted avg       0.86      0.87      0.85      2500\n",
            "\n",
            "Gradient Boosting Classifier:\n",
            "[[1921   62]\n",
            " [ 272  245]]\n",
            "Accuracy: \n",
            "86.64%\n"
          ]
        }
      ],
      "source": [
        "y_pred2 = grid2.predict(X_test)\n",
        "\n",
        "# Evaluation\n",
        "print(classification_report(y_test, y_pred2))\n",
        "print(\"Gradient Boosting Classifier:\")\n",
        "print(confusion_matrix(y_test, y_pred2))\n",
        "print(\"Accuracy: \")\n",
        "print(f\"{accuracy_score(y_test, y_pred2)* 100:.2f}%\")"
      ]
    },
    {
      "cell_type": "markdown",
      "metadata": {
        "id": "NvBZK2W374q7"
      },
      "source": [
        "### Model #3"
      ]
    },
    {
      "cell_type": "code",
      "execution_count": null,
      "metadata": {
        "id": "TfUt2nUf74q7"
      },
      "outputs": [],
      "source": [
        "# [ PERTANYAAN ]\n",
        "# TODO: Jelaskan secara singkat model #3 yang Anda gunakan."
      ]
    },
    {
      "cell_type": "markdown",
      "metadata": {
        "id": "8g3R5PRu74q7"
      },
      "source": [
        "[ ANSWER HERE ]<br>\n",
        "**Extra Trees Classifier**<br>\n",
        "Pohon ekstra berbeda dari pohon keputusan klasik dalam cara pembuatannya. Saat mencari pemisahan terbaik untuk memisahkan sampel node menjadi dua kelompok, pemisahan acak diambil untuk masing-masing fitur max_features yang dipilih secara acak dan pemisahan terbaik di antara fitur-fitur tersebut dipilih.\n",
        "Akurasi: Mirip dengan Random Forest, sering kali lebih cepat dalam pelatihan.\n",
        "Kompleksitas: Menengah hingga tinggi. Membangun banyak pohon secara acak.\n",
        "Penggunaan Umum: Masalah klasifikasi dengan fitur yang banyak dan kompleks."
      ]
    },
    {
      "cell_type": "code",
      "execution_count": null,
      "metadata": {
        "id": "O58XQ_C-74q7",
        "colab": {
          "base_uri": "https://localhost:8080/"
        },
        "outputId": "c4ef349a-5870-45c1-da9d-4a18827199e3"
      },
      "outputs": [
        {
          "output_type": "execute_result",
          "data": {
            "text/plain": [
              "{'max_depth': None,\n",
              " 'max_features': 'log2',\n",
              " 'min_samples_split': 10,\n",
              " 'n_estimators': 300}"
            ]
          },
          "metadata": {},
          "execution_count": 16
        }
      ],
      "source": [
        "from sklearn.ensemble import ExtraTreesClassifier\n",
        "\n",
        "# Define the model and parameters\n",
        "model3 = ExtraTreesClassifier()\n",
        "params3 = {\n",
        "    'n_estimators': [100, 200, 300],\n",
        "    'max_features': ['sqrt', 'log2'],\n",
        "    'max_depth': [None, 10, 20, 30],\n",
        "    'min_samples_split': [2, 5, 10]\n",
        "}\n",
        "\n",
        "# Perform hyperparameter tuning\n",
        "grid3 = GridSearchCV(\n",
        "    estimator=model3,\n",
        "    param_grid=params3,\n",
        "    scoring='accuracy',\n",
        "    n_jobs=10,  # Use multiple cores\n",
        "    cv=10  # 10-fold cross-validation\n",
        ")\n",
        "\n",
        "grid3.fit(X_train, y_train)\n",
        "grid3.best_params_"
      ]
    },
    {
      "cell_type": "code",
      "execution_count": null,
      "metadata": {
        "id": "xEtXn8OH74q8",
        "colab": {
          "base_uri": "https://localhost:8080/"
        },
        "outputId": "06a07cab-5b7a-452d-ecbd-adfd807b5ec5"
      },
      "outputs": [
        {
          "output_type": "stream",
          "name": "stdout",
          "text": [
            "              precision    recall  f1-score   support\n",
            "\n",
            "           0       0.87      0.97      0.92      1983\n",
            "           1       0.81      0.44      0.57       517\n",
            "\n",
            "    accuracy                           0.86      2500\n",
            "   macro avg       0.84      0.71      0.75      2500\n",
            "weighted avg       0.86      0.86      0.85      2500\n",
            "\n",
            "Extra Trees Classifier:\n",
            "[[1929   54]\n",
            " [ 287  230]]\n",
            "Accuracy: \n",
            "86.36%\n"
          ]
        }
      ],
      "source": [
        "y_pred3 = grid3.predict(X_test)\n",
        "\n",
        "# Evaluation\n",
        "print(classification_report(y_test, y_pred3))\n",
        "print(\"Extra Trees Classifier:\")\n",
        "print(confusion_matrix(y_test, y_pred3))\n",
        "print(\"Accuracy: \")\n",
        "print(f\"{accuracy_score(y_test, y_pred3)* 100:.2f}%\")"
      ]
    },
    {
      "cell_type": "markdown",
      "metadata": {
        "id": "mRVL2IQj74q8"
      },
      "source": [
        "### Conclusion"
      ]
    },
    {
      "cell_type": "code",
      "execution_count": null,
      "metadata": {
        "id": "dZVlF0Fo74q8"
      },
      "outputs": [],
      "source": [
        "# [ PERTANYAAN ]\n",
        "# TODO: Tarik kesimpulan model mana yang terbaik beserta alasannya"
      ]
    },
    {
      "cell_type": "markdown",
      "metadata": {
        "id": "n5Z3OQN54rb-"
      },
      "source": [
        "[ ANSWER HERE ]\n",
        "\n",
        "\n",
        "1.   Akurasi\n",
        "*   Extra Trees Classifier memiliki akurasi yang mirip dengan Random Forest dan sering kali lebih cepat dalam pelatihan karena cara pembentukan pohon yang lebih acak.\n",
        "*   Random Forest Classifier juga menawarkan akurasi yang tinggi dan mampu menangani overfitting dengan baik.\n",
        "*   Gradient Boosting Classifier cenderung memiliki akurasi lebih tinggi dari kedua model sebelumnya, terutama dalam masalah klasifikasi yang kompleks karena kemampuannya mengoptimalkan kesalahan dari model sebelumnya.\n",
        "\n",
        "Kesimpulan:Gradient Boosting sering kali memberikan akurasi terbaik, terutama pada masalah klasifikasi yang kompleks, namun butuh tuning hyperparameter yang lebih cermat.\n",
        "\n",
        "2.   Kompleksitas:\n",
        "\n",
        "\n",
        "*   Extra Trees Classifier dan Random Forest Classifier memiliki kompleksitas menengah hingga tinggi karena membangun banyak pohon, meskipun Random Forest lebih baik dalam menangani overfitting.\n",
        "*   Gradient Boosting Classifier memiliki kompleksitas yang paling tinggi karena setiap iterasi model berusaha memperbaiki kesalahan dari model sebelumnya, sehingga membutuhkan waktu lebih lama untuk melatih dan mengatur hyperparameter dengan hati-hati.\n",
        "\n",
        "Kesimpulan: Jika kompleksitas pelatihan adalah faktor kritis, Extra Trees mungkin menjadi pilihan yang lebih cepat dibandingkan dengan Random Forest dan Gradient Boosting.\n",
        "\n",
        "3. Penggunaan Umum\n",
        "*   Extra Trees Classifier dan Random Forest Classifier sering digunakan dalam masalah klasifikasi dengan fitur yang banyak dan kompleks.\n",
        "*   Gradient Boosting Classifier lebih sering digunakan dalam kompetisi machine learning atau masalah dengan interaksi fitur yang sangat kompleks karena performa yang superior dalam pengaturan yang tepat.\n",
        "\n",
        "Kesimpulan: Untuk masalah dengan fitur interaktif dan tujuan mencapai akurasi tertinggi, Gradient Boosting bisa menjadi pilihan terbaik, namun jika diperlukan model yang lebih sederhana atau cepat, Extra Trees atau Random Forest lebih sesuai.\n",
        "\n",
        "Jadi, Gradient Boosting Classifier adalah pilihan terbaik dari segi akurasi, terutama untuk masalah klasifikasi kompleks. Namun, jika Anda mengutamakan kecepatan pelatihan dengan akurasi yang mendekati, Extra Trees Classifier adalah pilihan yang solid, lebih cepat, dan kurang kompleks daripada Gradient Boosting."
      ]
    },
    {
      "cell_type": "markdown",
      "metadata": {
        "id": "Kd8Td1YsV23w"
      },
      "source": [
        "### Scoring\n",
        "Total `#TODO` = 13\n",
        "<br>Checklist:\n",
        "\n",
        "- [✔️] Hilangkan kolom yang tidak relevan untuk pemodelan\n",
        "- [✔️] Lakukan One-Hot Encoder untuk data kategorikal, dengan fungsi pd.get_dummies\n",
        "- [✔️] Pisahkan fitur (X) dengan target (Y), dimana Y merujuk ke kolom \"Exited\"\n",
        "- [✔️] Lakukan scaling atau normalisasi\n",
        "- [✔️] Jelaskan secara singkat model #1 yang Anda gunakan\n",
        "- [✔️] Pilih salah satu model Machine Learning (ML) dari Scikit-learn (model #1)\n",
        "- [✔️] Lakukan evaluasi untuk model #1\n",
        "- [✔️] Jelaskan secara singkat model #2 yang Anda gunakan\n",
        "- [✔️] Pilih salah satu model Machine Learning (ML) dari Scikit-learn (model #2)\n",
        "- [✔️] Lakukan evaluasi untuk model #2\n",
        "- [✔️] Jelaskan secara singkat model #3 yang Anda gunakan\n",
        "- [✔️] Pilih salah satu model Machine Learning (ML) dari Scikit-learn (model #3)\n",
        "- [✔️] Lakukan evaluasi untuk model #3"
      ]
    },
    {
      "cell_type": "markdown",
      "metadata": {
        "id": "nu54eCVrV23w"
      },
      "source": [
        "### Additional readings\n",
        "- N/A"
      ]
    },
    {
      "cell_type": "markdown",
      "metadata": {
        "id": "8lozabSPV23w"
      },
      "source": [
        "### Copyright © 2024 Startup Campus, Indonesia\n",
        "* You may **NOT** use this file except there is written permission from PT. Kampus Merdeka Belajar (Startup Campus).\n",
        "* Please address your questions to mentors."
      ]
    }
  ],
  "metadata": {
    "colab": {
      "provenance": []
    },
    "kernelspec": {
      "display_name": "Python 3 (ipykernel)",
      "language": "python",
      "name": "python3"
    },
    "language_info": {
      "codemirror_mode": {
        "name": "ipython",
        "version": 3
      },
      "file_extension": ".py",
      "mimetype": "text/x-python",
      "name": "python",
      "nbconvert_exporter": "python",
      "pygments_lexer": "ipython3",
      "version": "3.11.9"
    },
    "toc-autonumbering": true,
    "toc-showcode": false,
    "toc-showmarkdowntxt": false
  },
  "nbformat": 4,
  "nbformat_minor": 0
}