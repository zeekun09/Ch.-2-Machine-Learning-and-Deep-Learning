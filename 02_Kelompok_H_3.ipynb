{
  "cells": [
    {
      "cell_type": "markdown",
      "metadata": {
        "id": "Avr_BuLrV23M"
      },
      "source": [
        "# Assignment Chapter 2 - DEEP LEARNING [Case #3]\n",
        "Startup Campus, Indonesia - `Artificial Intelligence (AI)` (Batch 7)\n",
        "* Task: **REGRESSION**\n",
        "* DL Framework: **Tensorflow-Keras**\n",
        "* Dataset: California House Price\n",
        "* Libraries: Pandas, Numpy, Scikit-learn, Matplotlib\n",
        "* Objective: Predict House Pricing with Dual Input Settings using Multilayer Perceptron\n",
        "\n",
        "`PERSYARATAN` Semua modul (termasuk versi yang sesuai) sudah di-install dengan benar.\n",
        "<br>`CARA PENGERJAAN` Lengkapi baris kode yang ditandai dengan **#TODO**.\n",
        "<br>`TARGET PORTFOLIO` Peserta mampu memprediksi harga rumah menggunakan *Multilayer Perceptron*"
      ]
    },
    {
      "cell_type": "markdown",
      "metadata": {
        "id": "SxCpaeLXSxhD"
      },
      "source": [
        "### Import Libraries"
      ]
    },
    {
      "cell_type": "code",
      "execution_count": null,
      "metadata": {
        "id": "1aQumKTMEnYv"
      },
      "outputs": [],
      "source": [
        "import pandas as pd\n",
        "import numpy as np\n",
        "import tensorflow as tf\n",
        "from tensorflow import keras\n",
        "\n",
        "from sklearn.datasets import fetch_california_housing\n",
        "from sklearn.model_selection import train_test_split\n",
        "from sklearn.preprocessing import StandardScaler\n",
        "from sklearn.preprocessing import MinMaxScaler\n",
        "from matplotlib import pyplot as plt"
      ]
    },
    {
      "cell_type": "markdown",
      "metadata": {
        "id": "Enb6t0fMSxhE"
      },
      "source": [
        "### Load Dataset"
      ]
    },
    {
      "cell_type": "code",
      "execution_count": null,
      "metadata": {
        "colab": {
          "base_uri": "https://localhost:8080/"
        },
        "id": "5KlPLjf8EnYy",
        "outputId": "4c4cf851-2582-400f-c5e9-00fcc9a36159"
      },
      "outputs": [
        {
          "output_type": "stream",
          "name": "stdout",
          "text": [
            "Features name: ['MedInc', 'HouseAge', 'AveRooms', 'AveBedrms', 'Population', 'AveOccup', 'Latitude', 'Longitude']\n",
            "Features data:\n",
            "[[   8.3252       41.            6.98412698 ...    2.55555556\n",
            "    37.88       -122.23      ]\n",
            " [   8.3014       21.            6.23813708 ...    2.10984183\n",
            "    37.86       -122.22      ]\n",
            " [   7.2574       52.            8.28813559 ...    2.80225989\n",
            "    37.85       -122.24      ]\n",
            " ...\n",
            " [   1.7          17.            5.20554273 ...    2.3256351\n",
            "    39.43       -121.22      ]\n",
            " [   1.8672       18.            5.32951289 ...    2.12320917\n",
            "    39.43       -121.32      ]\n",
            " [   2.3886       16.            5.25471698 ...    2.61698113\n",
            "    39.37       -121.24      ]]\n",
            "Target data:\n",
            "[4.526 3.585 3.521 ... 0.923 0.847 0.894]\n"
          ]
        }
      ],
      "source": [
        "housing = fetch_california_housing()\n",
        "print(\"Features name: {}\".format(housing.feature_names))\n",
        "print(\"Features data:\\n{}\".format(housing.data))\n",
        "print(\"Target data:\\n{}\".format(housing.target)) # target is the house price"
      ]
    },
    {
      "cell_type": "code",
      "execution_count": null,
      "metadata": {
        "colab": {
          "base_uri": "https://localhost:8080/"
        },
        "id": "yeAkxkCOEnY0",
        "outputId": "1528715b-a380-4a24-c044-7e685f70e020"
      },
      "outputs": [
        {
          "output_type": "stream",
          "name": "stdout",
          "text": [
            "   MedInc  HouseAge  AveRooms  AveBedrms  Population  AveOccup  Latitude  \\\n",
            "0  8.3252      41.0  6.984127   1.023810       322.0  2.555556     37.88   \n",
            "1  8.3014      21.0  6.238137   0.971880      2401.0  2.109842     37.86   \n",
            "2  7.2574      52.0  8.288136   1.073446       496.0  2.802260     37.85   \n",
            "3  5.6431      52.0  5.817352   1.073059       558.0  2.547945     37.85   \n",
            "4  3.8462      52.0  6.281853   1.081081       565.0  2.181467     37.85   \n",
            "\n",
            "   Longitude  target  \n",
            "0    -122.23   4.526  \n",
            "1    -122.22   3.585  \n",
            "2    -122.24   3.521  \n",
            "3    -122.25   3.413  \n",
            "4    -122.25   3.422  \n"
          ]
        }
      ],
      "source": [
        "# TODO: Ubah \"features\" dan \"target\" dari Numpy Array ke Pandas DataFrame\n",
        "features = housing.data  # Get the features data from the housing object\n",
        "target = housing.target  # Get the target data from the housing object\n",
        "\n",
        "datafr = pd.DataFrame(features, columns=housing.feature_names)\n",
        "datafr['target'] = target\n",
        "\n",
        "print(datafr.head())"
      ]
    },
    {
      "cell_type": "markdown",
      "metadata": {
        "id": "-raALwdhEnY1"
      },
      "source": [
        "### Train / Validation / Test Split"
      ]
    },
    {
      "cell_type": "code",
      "execution_count": null,
      "metadata": {
        "colab": {
          "base_uri": "https://localhost:8080/"
        },
        "id": "-TxJy_hzEnY1",
        "outputId": "46bdf55b-28b2-464d-ec36-b555d6a1cdb5"
      },
      "outputs": [
        {
          "output_type": "stream",
          "name": "stdout",
          "text": [
            "x_train (13209, 8) y_train (13209,)\n",
            "x_val (3303, 8) y_val (3303,)\n",
            "x_test (4128, 8) y_test (4128,)\n"
          ]
        }
      ],
      "source": [
        "# TODO: Pisahkan data menjadi train, validation, dan test\n",
        "# HINT: Pertama, pisahkan data menjadi train dan test.\n",
        "#       Selanjutnya, pisahkan data train menjadi dua, yaitu data train dan data validation.\n",
        "\n",
        "# Pisahkan features dan target dari dataframe\n",
        "X = datafr.drop('target', axis=1)  # Features\n",
        "y = datafr['target']  # Target\n",
        "\n",
        "# Pisahkan data menjadi train dan test\n",
        "x_train, x_test, y_train, y_test = train_test_split(X, y, test_size=0.2, random_state=42)\n",
        "\n",
        "# Pisahkan data train menjadi train dan validation\n",
        "x_train, x_val, y_train, y_val = train_test_split(x_train, y_train, test_size=0.2, random_state=42)\n",
        "\n",
        "print(\"x_train\", x_train.shape, \"y_train\", y_train.shape)\n",
        "print(\"x_val\", x_val.shape, \"y_val\", y_val.shape)\n",
        "print(\"x_test\", x_test.shape, \"y_test\", y_test.shape)"
      ]
    },
    {
      "cell_type": "markdown",
      "metadata": {
        "id": "-JJ7qi6rEnY1"
      },
      "source": [
        "### Standardization and Normalization"
      ]
    },
    {
      "cell_type": "code",
      "execution_count": null,
      "metadata": {
        "id": "zLhdXLVIEnY1"
      },
      "outputs": [],
      "source": [
        "# TODO: Lakukan standarisasi untuk data train, validation, dan test menggunakan StandardScaler()\n",
        "scaler = StandardScaler()\n",
        "x_train = scaler.fit_transform(x_train)\n",
        "x_val = scaler.transform(x_val)\n",
        "x_test = scaler.transform(x_test)"
      ]
    },
    {
      "cell_type": "code",
      "execution_count": null,
      "metadata": {
        "id": "u0w4Pz5oEnY2"
      },
      "outputs": [],
      "source": [
        "# TODO: Lakukan normalisasi untuk data train, validation, dan test menggunakan MinMaxScaler()\n",
        "scaler_minmax = MinMaxScaler()\n",
        "x_train_norm = scaler_minmax.fit_transform(x_train)\n",
        "x_val_norm = scaler_minmax.transform(x_val)\n",
        "x_test_norm = scaler_minmax.transform(x_test)"
      ]
    },
    {
      "cell_type": "markdown",
      "metadata": {
        "id": "ZhPvRD3nEnY2"
      },
      "source": [
        "### Advanced Splitting\n",
        "Perform an advance split into **multiple overlapping input (A and B)**, where **input A** consists of feature 0 to 4 and **input B** consists of feature 2 to 7."
      ]
    },
    {
      "cell_type": "code",
      "execution_count": null,
      "metadata": {
        "colab": {
          "base_uri": "https://localhost:8080/"
        },
        "id": "SUyDjaZ5EnY2",
        "outputId": "d487e37f-f082-4f92-d90e-716c9c25b16a"
      },
      "outputs": [
        {
          "output_type": "stream",
          "name": "stdout",
          "text": [
            "x_train_A (13209, 5) x_train_B (13209, 6)\n",
            "x_val_A (3303, 5) x_val_B (3303, 6)\n",
            "x_test_A (4128, 5) x_test_B (4128, 6)\n"
          ]
        }
      ],
      "source": [
        "x_train_A, x_train_B = x_train[:, :5], x_train[:, 2:]\n",
        "x_val_A, x_val_B = x_val[:, :5], x_val[:, 2:]\n",
        "x_test_A, x_test_B = x_test[:, :5], x_test[:, 2:]\n",
        "\n",
        "# samples to predict after training\n",
        "x_new_A, x_new_B = x_test_A[:3], x_test_B[:3]\n",
        "\n",
        "print(\"x_train_A\", x_train_A.shape, \"x_train_B\", x_train_B.shape)\n",
        "print(\"x_val_A\", x_val_A.shape, \"x_val_B\", x_val_B.shape)\n",
        "print(\"x_test_A\", x_test_A.shape, \"x_test_B\", x_test_B.shape)"
      ]
    },
    {
      "cell_type": "markdown",
      "metadata": {
        "id": "uvGtH1jNEnY3"
      },
      "source": [
        "### Regression Modeling with Neural Network"
      ]
    },
    {
      "cell_type": "markdown",
      "metadata": {
        "id": "861X-2gEEnY3"
      },
      "source": [
        "<font color=\"red\">**- - - - MOHON DIPERHATIKAN - - - -**</font>\n",
        "<br> Keras/Tensorflow akan **secara otomatis** menambah layer neural network apabila kamu menjalankan ulang *cell* terkait. Jadi, silakan <b>*restart kernel*</b> dan jalankan ulang (*rerun*) semua kode agar hasil sesuai."
      ]
    },
    {
      "cell_type": "markdown",
      "metadata": {
        "id": "kIr1Z7VMEnY3"
      },
      "source": [
        "> <font color=\"red\"> **(Step 1) Build the Model**</font>\n",
        "\n",
        "Yang dilakukan pada tahap ini:\n",
        "* Tentukan *parameters*, yaitu `weight` dan `bias`\n",
        "* Tentukan *hyperparameters*, yaitu total neurons di (1) input layers, (2) hidden layers, and (3) output layer\n",
        "* Tentukan *activation functions*\n",
        "\n",
        "<br> Lihat dokumentasi **Keras Core Layers** [**disini**](https://keras.io/api/layers/core_layers/).\n",
        "<br> Lihat dokumentasi **Keras Model.summary()** dan **Model.get_layers() method**  [**disini**](https://keras.io/api/models/model/#summary-method).\n",
        "<br> Lihat dokumentasi **Keras Layer Initializer** untuk *weights* (*kernel_initializer*) dan *biases* (*bias_initializer*) [**disini**](https://keras.io/api/layers/initializers/).\n",
        "<br> Lihat dokumentasi **Keras Activation Functions** [**disini**](https://keras.io/api/layers/activations/).\n",
        "\n",
        "Secara default di bagian `.layers.Dense()`, sudah ditentukan `activation=None`, `kernel_initializer=\"glorot_uniform\"` dan `bias_initializer=\"zeros\"`."
      ]
    },
    {
      "cell_type": "code",
      "execution_count": null,
      "metadata": {
        "colab": {
          "base_uri": "https://localhost:8080/",
          "height": 369
        },
        "id": "5bEFpzTjEnY4",
        "outputId": "ebd33d31-f9dd-4b1d-be10-3962b2ec02bf"
      },
      "outputs": [
        {
          "output_type": "display_data",
          "data": {
            "text/plain": [
              "\u001b[1mModel: \"functional_5\"\u001b[0m\n"
            ],
            "text/html": [
              "<pre style=\"white-space:pre;overflow-x:auto;line-height:normal;font-family:Menlo,'DejaVu Sans Mono',consolas,'Courier New',monospace\"><span style=\"font-weight: bold\">Model: \"functional_5\"</span>\n",
              "</pre>\n"
            ]
          },
          "metadata": {}
        },
        {
          "output_type": "display_data",
          "data": {
            "text/plain": [
              "┏━━━━━━━━━━━━━━━━━━━━━━━━━━━┳━━━━━━━━━━━━━━━━━━━━━━━━┳━━━━━━━━━━━━━━━━┳━━━━━━━━━━━━━━━━━━━━━━━━┓\n",
              "┃\u001b[1m \u001b[0m\u001b[1mLayer (type)             \u001b[0m\u001b[1m \u001b[0m┃\u001b[1m \u001b[0m\u001b[1mOutput Shape          \u001b[0m\u001b[1m \u001b[0m┃\u001b[1m \u001b[0m\u001b[1m       Param #\u001b[0m\u001b[1m \u001b[0m┃\u001b[1m \u001b[0m\u001b[1mConnected to          \u001b[0m\u001b[1m \u001b[0m┃\n",
              "┡━━━━━━━━━━━━━━━━━━━━━━━━━━━╇━━━━━━━━━━━━━━━━━━━━━━━━╇━━━━━━━━━━━━━━━━╇━━━━━━━━━━━━━━━━━━━━━━━━┩\n",
              "│ input_layer_10            │ (\u001b[38;5;45mNone\u001b[0m, \u001b[38;5;34m5\u001b[0m)              │              \u001b[38;5;34m0\u001b[0m │ -                      │\n",
              "│ (\u001b[38;5;33mInputLayer\u001b[0m)              │                        │                │                        │\n",
              "├───────────────────────────┼────────────────────────┼────────────────┼────────────────────────┤\n",
              "│ input_layer_11            │ (\u001b[38;5;45mNone\u001b[0m, \u001b[38;5;34m6\u001b[0m)              │              \u001b[38;5;34m0\u001b[0m │ -                      │\n",
              "│ (\u001b[38;5;33mInputLayer\u001b[0m)              │                        │                │                        │\n",
              "├───────────────────────────┼────────────────────────┼────────────────┼────────────────────────┤\n",
              "│ dense_10 (\u001b[38;5;33mDense\u001b[0m)          │ (\u001b[38;5;45mNone\u001b[0m, \u001b[38;5;34m30\u001b[0m)             │            \u001b[38;5;34m180\u001b[0m │ input_layer_10[\u001b[38;5;34m0\u001b[0m][\u001b[38;5;34m0\u001b[0m]   │\n",
              "├───────────────────────────┼────────────────────────┼────────────────┼────────────────────────┤\n",
              "│ dense_11 (\u001b[38;5;33mDense\u001b[0m)          │ (\u001b[38;5;45mNone\u001b[0m, \u001b[38;5;34m30\u001b[0m)             │            \u001b[38;5;34m210\u001b[0m │ input_layer_11[\u001b[38;5;34m0\u001b[0m][\u001b[38;5;34m0\u001b[0m]   │\n",
              "├───────────────────────────┼────────────────────────┼────────────────┼────────────────────────┤\n",
              "│ concatenate_5             │ (\u001b[38;5;45mNone\u001b[0m, \u001b[38;5;34m60\u001b[0m)             │              \u001b[38;5;34m0\u001b[0m │ dense_10[\u001b[38;5;34m0\u001b[0m][\u001b[38;5;34m0\u001b[0m],        │\n",
              "│ (\u001b[38;5;33mConcatenate\u001b[0m)             │                        │                │ dense_11[\u001b[38;5;34m0\u001b[0m][\u001b[38;5;34m0\u001b[0m]         │\n",
              "├───────────────────────────┼────────────────────────┼────────────────┼────────────────────────┤\n",
              "│ output (\u001b[38;5;33mDense\u001b[0m)            │ (\u001b[38;5;45mNone\u001b[0m, \u001b[38;5;34m1\u001b[0m)              │             \u001b[38;5;34m61\u001b[0m │ concatenate_5[\u001b[38;5;34m0\u001b[0m][\u001b[38;5;34m0\u001b[0m]    │\n",
              "└───────────────────────────┴────────────────────────┴────────────────┴────────────────────────┘\n"
            ],
            "text/html": [
              "<pre style=\"white-space:pre;overflow-x:auto;line-height:normal;font-family:Menlo,'DejaVu Sans Mono',consolas,'Courier New',monospace\">┏━━━━━━━━━━━━━━━━━━━━━━━━━━━┳━━━━━━━━━━━━━━━━━━━━━━━━┳━━━━━━━━━━━━━━━━┳━━━━━━━━━━━━━━━━━━━━━━━━┓\n",
              "┃<span style=\"font-weight: bold\"> Layer (type)              </span>┃<span style=\"font-weight: bold\"> Output Shape           </span>┃<span style=\"font-weight: bold\">        Param # </span>┃<span style=\"font-weight: bold\"> Connected to           </span>┃\n",
              "┡━━━━━━━━━━━━━━━━━━━━━━━━━━━╇━━━━━━━━━━━━━━━━━━━━━━━━╇━━━━━━━━━━━━━━━━╇━━━━━━━━━━━━━━━━━━━━━━━━┩\n",
              "│ input_layer_10            │ (<span style=\"color: #00d7ff; text-decoration-color: #00d7ff\">None</span>, <span style=\"color: #00af00; text-decoration-color: #00af00\">5</span>)              │              <span style=\"color: #00af00; text-decoration-color: #00af00\">0</span> │ -                      │\n",
              "│ (<span style=\"color: #0087ff; text-decoration-color: #0087ff\">InputLayer</span>)              │                        │                │                        │\n",
              "├───────────────────────────┼────────────────────────┼────────────────┼────────────────────────┤\n",
              "│ input_layer_11            │ (<span style=\"color: #00d7ff; text-decoration-color: #00d7ff\">None</span>, <span style=\"color: #00af00; text-decoration-color: #00af00\">6</span>)              │              <span style=\"color: #00af00; text-decoration-color: #00af00\">0</span> │ -                      │\n",
              "│ (<span style=\"color: #0087ff; text-decoration-color: #0087ff\">InputLayer</span>)              │                        │                │                        │\n",
              "├───────────────────────────┼────────────────────────┼────────────────┼────────────────────────┤\n",
              "│ dense_10 (<span style=\"color: #0087ff; text-decoration-color: #0087ff\">Dense</span>)          │ (<span style=\"color: #00d7ff; text-decoration-color: #00d7ff\">None</span>, <span style=\"color: #00af00; text-decoration-color: #00af00\">30</span>)             │            <span style=\"color: #00af00; text-decoration-color: #00af00\">180</span> │ input_layer_10[<span style=\"color: #00af00; text-decoration-color: #00af00\">0</span>][<span style=\"color: #00af00; text-decoration-color: #00af00\">0</span>]   │\n",
              "├───────────────────────────┼────────────────────────┼────────────────┼────────────────────────┤\n",
              "│ dense_11 (<span style=\"color: #0087ff; text-decoration-color: #0087ff\">Dense</span>)          │ (<span style=\"color: #00d7ff; text-decoration-color: #00d7ff\">None</span>, <span style=\"color: #00af00; text-decoration-color: #00af00\">30</span>)             │            <span style=\"color: #00af00; text-decoration-color: #00af00\">210</span> │ input_layer_11[<span style=\"color: #00af00; text-decoration-color: #00af00\">0</span>][<span style=\"color: #00af00; text-decoration-color: #00af00\">0</span>]   │\n",
              "├───────────────────────────┼────────────────────────┼────────────────┼────────────────────────┤\n",
              "│ concatenate_5             │ (<span style=\"color: #00d7ff; text-decoration-color: #00d7ff\">None</span>, <span style=\"color: #00af00; text-decoration-color: #00af00\">60</span>)             │              <span style=\"color: #00af00; text-decoration-color: #00af00\">0</span> │ dense_10[<span style=\"color: #00af00; text-decoration-color: #00af00\">0</span>][<span style=\"color: #00af00; text-decoration-color: #00af00\">0</span>],        │\n",
              "│ (<span style=\"color: #0087ff; text-decoration-color: #0087ff\">Concatenate</span>)             │                        │                │ dense_11[<span style=\"color: #00af00; text-decoration-color: #00af00\">0</span>][<span style=\"color: #00af00; text-decoration-color: #00af00\">0</span>]         │\n",
              "├───────────────────────────┼────────────────────────┼────────────────┼────────────────────────┤\n",
              "│ output (<span style=\"color: #0087ff; text-decoration-color: #0087ff\">Dense</span>)            │ (<span style=\"color: #00d7ff; text-decoration-color: #00d7ff\">None</span>, <span style=\"color: #00af00; text-decoration-color: #00af00\">1</span>)              │             <span style=\"color: #00af00; text-decoration-color: #00af00\">61</span> │ concatenate_5[<span style=\"color: #00af00; text-decoration-color: #00af00\">0</span>][<span style=\"color: #00af00; text-decoration-color: #00af00\">0</span>]    │\n",
              "└───────────────────────────┴────────────────────────┴────────────────┴────────────────────────┘\n",
              "</pre>\n"
            ]
          },
          "metadata": {}
        },
        {
          "output_type": "display_data",
          "data": {
            "text/plain": [
              "\u001b[1m Total params: \u001b[0m\u001b[38;5;34m451\u001b[0m (1.76 KB)\n"
            ],
            "text/html": [
              "<pre style=\"white-space:pre;overflow-x:auto;line-height:normal;font-family:Menlo,'DejaVu Sans Mono',consolas,'Courier New',monospace\"><span style=\"font-weight: bold\"> Total params: </span><span style=\"color: #00af00; text-decoration-color: #00af00\">451</span> (1.76 KB)\n",
              "</pre>\n"
            ]
          },
          "metadata": {}
        },
        {
          "output_type": "display_data",
          "data": {
            "text/plain": [
              "\u001b[1m Trainable params: \u001b[0m\u001b[38;5;34m451\u001b[0m (1.76 KB)\n"
            ],
            "text/html": [
              "<pre style=\"white-space:pre;overflow-x:auto;line-height:normal;font-family:Menlo,'DejaVu Sans Mono',consolas,'Courier New',monospace\"><span style=\"font-weight: bold\"> Trainable params: </span><span style=\"color: #00af00; text-decoration-color: #00af00\">451</span> (1.76 KB)\n",
              "</pre>\n"
            ]
          },
          "metadata": {}
        },
        {
          "output_type": "display_data",
          "data": {
            "text/plain": [
              "\u001b[1m Non-trainable params: \u001b[0m\u001b[38;5;34m0\u001b[0m (0.00 B)\n"
            ],
            "text/html": [
              "<pre style=\"white-space:pre;overflow-x:auto;line-height:normal;font-family:Menlo,'DejaVu Sans Mono',consolas,'Courier New',monospace\"><span style=\"font-weight: bold\"> Non-trainable params: </span><span style=\"color: #00af00; text-decoration-color: #00af00\">0</span> (0.00 B)\n",
              "</pre>\n"
            ]
          },
          "metadata": {}
        }
      ],
      "source": [
        "input_A = keras.layers.Input(shape=[5])\n",
        "input_B = keras.layers.Input(shape=[6])\n",
        "\n",
        "# TODO: Buat hidden layer pertama dengan 30 neuron dan ReLU sebagai activation function\n",
        "hidden1 = keras.layers.Dense(30, activation=\"relu\")(input_A)\n",
        "\n",
        "# TODO: Buat hidden layer kedua dengan 30 neuron dan ReLU sebagai activation function\n",
        "hidden2 = keras.layers.Dense(30, activation=\"relu\")(input_B)\n",
        "\n",
        "concat = keras.layers.concatenate([hidden1, hidden2])\n",
        "output = keras.layers.Dense(1, name=\"output\")(concat)\n",
        "regression_model = keras.Model(inputs=[input_A, input_B], outputs=[output])\n",
        "regression_model.summary()"
      ]
    },
    {
      "cell_type": "markdown",
      "metadata": {
        "id": "uDKOQ_2SEnY4"
      },
      "source": [
        "> <font color=\"red\"> **(Step 2) Compile the Model** </font>\n",
        "\n",
        "Yang dilakukan pada tahap ini:\n",
        "* Tentukan `loss_function`, `optimizer` (termasuk `learning_rate` dan `momentum`), dan `metrics` (opsional)\n",
        "\n",
        "Lihat dokumentasi **Keras Model.compile() method** [**disini**](https://keras.io/api/models/model_training_apis/#compile-method).\n",
        "<br> Lihat dokumentasi **Keras Loss Function** [**disini**](https://keras.io/api/losses/).\n",
        "<br> Lihat dokumentasi **Keras Optimizers** [**disini**](https://keras.io/api/optimizers/).\n",
        "<br> Lihat dokumentasi **Keras Metrics** [**disini**](https://keras.io/api/metrics/)."
      ]
    },
    {
      "cell_type": "code",
      "execution_count": null,
      "metadata": {
        "id": "5418WTH1EnY4"
      },
      "outputs": [],
      "source": [
        "# TODO: Tentukan learning rate\n",
        "lr = 0.0001\n",
        "\n",
        "regression_model.compile(\n",
        "    loss=[\"mean_squared_error\"],\n",
        "    optimizer=tf.keras.optimizers.Adam(learning_rate=lr)\n",
        ")"
      ]
    },
    {
      "cell_type": "markdown",
      "metadata": {
        "id": "k0jU9F8nEnY5"
      },
      "source": [
        "**Catatan:** Di Keras-Tensorflow,\n",
        "* `loss=\"mean_squared_error\"` **ekuivalen** dengan `loss=tf.keras.losses.MeanSquaredError()`\n",
        "* `optimizer=\"Adam\"` **ekuivalen** dengan `optimizer=tf.keras.optimizers.Adam()`"
      ]
    },
    {
      "cell_type": "markdown",
      "metadata": {
        "id": "d9VKlGGmEnY5"
      },
      "source": [
        "> <font color=\"red\"> **(Step 3) Train the Model** </font>\n",
        "\n",
        "Yang dilakukan pada tahap ini:\n",
        "* Tentukan *learning hyperparameters*, yaitu `epochs` dan `batch_size`\n",
        "* Inisiasi `validation_data` (opsional)\n",
        "\n",
        "Lihat dokumentasi **Keras Model.fit() method** [**disini**](https://keras.io/api/models/model_training_apis/#fit-method)."
      ]
    },
    {
      "cell_type": "code",
      "execution_count": null,
      "metadata": {
        "id": "H4G1nYuiSxhG"
      },
      "outputs": [],
      "source": [
        "# TODO: Tentukan jumlah epoch (iterasi)\n",
        "n_epoch = 100\n",
        "\n",
        "# TODO: Tentukan jumlah batch\n",
        "batch_size = 60"
      ]
    },
    {
      "cell_type": "code",
      "execution_count": null,
      "metadata": {
        "colab": {
          "base_uri": "https://localhost:8080/"
        },
        "id": "k_byVWzFEnY5",
        "outputId": "062fe8c7-0bbe-40e2-d65f-9484ae6644c8"
      },
      "outputs": [
        {
          "output_type": "stream",
          "name": "stdout",
          "text": [
            "Epoch 1/100\n",
            "\u001b[1m221/221\u001b[0m \u001b[32m━━━━━━━━━━━━━━━━━━━━\u001b[0m\u001b[37m\u001b[0m \u001b[1m3s\u001b[0m 5ms/step - loss: 5.7052 - val_loss: 4.7716\n",
            "Epoch 2/100\n",
            "\u001b[1m221/221\u001b[0m \u001b[32m━━━━━━━━━━━━━━━━━━━━\u001b[0m\u001b[37m\u001b[0m \u001b[1m1s\u001b[0m 2ms/step - loss: 4.1177 - val_loss: 3.5846\n",
            "Epoch 3/100\n",
            "\u001b[1m221/221\u001b[0m \u001b[32m━━━━━━━━━━━━━━━━━━━━\u001b[0m\u001b[37m\u001b[0m \u001b[1m1s\u001b[0m 2ms/step - loss: 3.1841 - val_loss: 2.7466\n",
            "Epoch 4/100\n",
            "\u001b[1m221/221\u001b[0m \u001b[32m━━━━━━━━━━━━━━━━━━━━\u001b[0m\u001b[37m\u001b[0m \u001b[1m1s\u001b[0m 2ms/step - loss: 2.3579 - val_loss: 2.1325\n",
            "Epoch 5/100\n",
            "\u001b[1m221/221\u001b[0m \u001b[32m━━━━━━━━━━━━━━━━━━━━\u001b[0m\u001b[37m\u001b[0m \u001b[1m1s\u001b[0m 2ms/step - loss: 1.8141 - val_loss: 1.6863\n",
            "Epoch 6/100\n",
            "\u001b[1m221/221\u001b[0m \u001b[32m━━━━━━━━━━━━━━━━━━━━\u001b[0m\u001b[37m\u001b[0m \u001b[1m1s\u001b[0m 2ms/step - loss: 1.4082 - val_loss: 1.3680\n",
            "Epoch 7/100\n",
            "\u001b[1m221/221\u001b[0m \u001b[32m━━━━━━━━━━━━━━━━━━━━\u001b[0m\u001b[37m\u001b[0m \u001b[1m1s\u001b[0m 2ms/step - loss: 1.2628 - val_loss: 1.1526\n",
            "Epoch 8/100\n",
            "\u001b[1m221/221\u001b[0m \u001b[32m━━━━━━━━━━━━━━━━━━━━\u001b[0m\u001b[37m\u001b[0m \u001b[1m1s\u001b[0m 2ms/step - loss: 1.0188 - val_loss: 1.0009\n",
            "Epoch 9/100\n",
            "\u001b[1m221/221\u001b[0m \u001b[32m━━━━━━━━━━━━━━━━━━━━\u001b[0m\u001b[37m\u001b[0m \u001b[1m0s\u001b[0m 2ms/step - loss: 0.9066 - val_loss: 0.8950\n",
            "Epoch 10/100\n",
            "\u001b[1m221/221\u001b[0m \u001b[32m━━━━━━━━━━━━━━━━━━━━\u001b[0m\u001b[37m\u001b[0m \u001b[1m0s\u001b[0m 2ms/step - loss: 0.8254 - val_loss: 0.8238\n",
            "Epoch 11/100\n",
            "\u001b[1m221/221\u001b[0m \u001b[32m━━━━━━━━━━━━━━━━━━━━\u001b[0m\u001b[37m\u001b[0m \u001b[1m0s\u001b[0m 2ms/step - loss: 0.7591 - val_loss: 0.7708\n",
            "Epoch 12/100\n",
            "\u001b[1m221/221\u001b[0m \u001b[32m━━━━━━━━━━━━━━━━━━━━\u001b[0m\u001b[37m\u001b[0m \u001b[1m1s\u001b[0m 2ms/step - loss: 0.7058 - val_loss: 0.7303\n",
            "Epoch 13/100\n",
            "\u001b[1m221/221\u001b[0m \u001b[32m━━━━━━━━━━━━━━━━━━━━\u001b[0m\u001b[37m\u001b[0m \u001b[1m1s\u001b[0m 2ms/step - loss: 0.6889 - val_loss: 0.6969\n",
            "Epoch 14/100\n",
            "\u001b[1m221/221\u001b[0m \u001b[32m━━━━━━━━━━━━━━━━━━━━\u001b[0m\u001b[37m\u001b[0m \u001b[1m0s\u001b[0m 2ms/step - loss: 0.6864 - val_loss: 0.6682\n",
            "Epoch 15/100\n",
            "\u001b[1m221/221\u001b[0m \u001b[32m━━━━━━━━━━━━━━━━━━━━\u001b[0m\u001b[37m\u001b[0m \u001b[1m1s\u001b[0m 3ms/step - loss: 0.6509 - val_loss: 0.6409\n",
            "Epoch 16/100\n",
            "\u001b[1m221/221\u001b[0m \u001b[32m━━━━━━━━━━━━━━━━━━━━\u001b[0m\u001b[37m\u001b[0m \u001b[1m1s\u001b[0m 3ms/step - loss: 0.6185 - val_loss: 0.6169\n",
            "Epoch 17/100\n",
            "\u001b[1m221/221\u001b[0m \u001b[32m━━━━━━━━━━━━━━━━━━━━\u001b[0m\u001b[37m\u001b[0m \u001b[1m1s\u001b[0m 2ms/step - loss: 0.5718 - val_loss: 0.5951\n",
            "Epoch 18/100\n",
            "\u001b[1m221/221\u001b[0m \u001b[32m━━━━━━━━━━━━━━━━━━━━\u001b[0m\u001b[37m\u001b[0m \u001b[1m1s\u001b[0m 2ms/step - loss: 0.5546 - val_loss: 0.5747\n",
            "Epoch 19/100\n",
            "\u001b[1m221/221\u001b[0m \u001b[32m━━━━━━━━━━━━━━━━━━━━\u001b[0m\u001b[37m\u001b[0m \u001b[1m0s\u001b[0m 2ms/step - loss: 0.5442 - val_loss: 0.5553\n",
            "Epoch 20/100\n",
            "\u001b[1m221/221\u001b[0m \u001b[32m━━━━━━━━━━━━━━━━━━━━\u001b[0m\u001b[37m\u001b[0m \u001b[1m0s\u001b[0m 2ms/step - loss: 0.5057 - val_loss: 0.5385\n",
            "Epoch 21/100\n",
            "\u001b[1m221/221\u001b[0m \u001b[32m━━━━━━━━━━━━━━━━━━━━\u001b[0m\u001b[37m\u001b[0m \u001b[1m1s\u001b[0m 2ms/step - loss: 0.5166 - val_loss: 0.5236\n",
            "Epoch 22/100\n",
            "\u001b[1m221/221\u001b[0m \u001b[32m━━━━━━━━━━━━━━━━━━━━\u001b[0m\u001b[37m\u001b[0m \u001b[1m1s\u001b[0m 2ms/step - loss: 0.4870 - val_loss: 0.5101\n",
            "Epoch 23/100\n",
            "\u001b[1m221/221\u001b[0m \u001b[32m━━━━━━━━━━━━━━━━━━━━\u001b[0m\u001b[37m\u001b[0m \u001b[1m1s\u001b[0m 2ms/step - loss: 0.4818 - val_loss: 0.4983\n",
            "Epoch 24/100\n",
            "\u001b[1m221/221\u001b[0m \u001b[32m━━━━━━━━━━━━━━━━━━━━\u001b[0m\u001b[37m\u001b[0m \u001b[1m0s\u001b[0m 2ms/step - loss: 0.4736 - val_loss: 0.4878\n",
            "Epoch 25/100\n",
            "\u001b[1m221/221\u001b[0m \u001b[32m━━━━━━━━━━━━━━━━━━━━\u001b[0m\u001b[37m\u001b[0m \u001b[1m0s\u001b[0m 2ms/step - loss: 0.4726 - val_loss: 0.4792\n",
            "Epoch 26/100\n",
            "\u001b[1m221/221\u001b[0m \u001b[32m━━━━━━━━━━━━━━━━━━━━\u001b[0m\u001b[37m\u001b[0m \u001b[1m1s\u001b[0m 2ms/step - loss: 0.4664 - val_loss: 0.4716\n",
            "Epoch 27/100\n",
            "\u001b[1m221/221\u001b[0m \u001b[32m━━━━━━━━━━━━━━━━━━━━\u001b[0m\u001b[37m\u001b[0m \u001b[1m1s\u001b[0m 2ms/step - loss: 0.4483 - val_loss: 0.4654\n",
            "Epoch 28/100\n",
            "\u001b[1m221/221\u001b[0m \u001b[32m━━━━━━━━━━━━━━━━━━━━\u001b[0m\u001b[37m\u001b[0m \u001b[1m1s\u001b[0m 2ms/step - loss: 0.4506 - val_loss: 0.4597\n",
            "Epoch 29/100\n",
            "\u001b[1m221/221\u001b[0m \u001b[32m━━━━━━━━━━━━━━━━━━━━\u001b[0m\u001b[37m\u001b[0m \u001b[1m1s\u001b[0m 2ms/step - loss: 0.4589 - val_loss: 0.4554\n",
            "Epoch 30/100\n",
            "\u001b[1m221/221\u001b[0m \u001b[32m━━━━━━━━━━━━━━━━━━━━\u001b[0m\u001b[37m\u001b[0m \u001b[1m1s\u001b[0m 2ms/step - loss: 0.4511 - val_loss: 0.4509\n",
            "Epoch 31/100\n",
            "\u001b[1m221/221\u001b[0m \u001b[32m━━━━━━━━━━━━━━━━━━━━\u001b[0m\u001b[37m\u001b[0m \u001b[1m1s\u001b[0m 2ms/step - loss: 0.4286 - val_loss: 0.4475\n",
            "Epoch 32/100\n",
            "\u001b[1m221/221\u001b[0m \u001b[32m━━━━━━━━━━━━━━━━━━━━\u001b[0m\u001b[37m\u001b[0m \u001b[1m0s\u001b[0m 2ms/step - loss: 0.4236 - val_loss: 0.4439\n",
            "Epoch 33/100\n",
            "\u001b[1m221/221\u001b[0m \u001b[32m━━━━━━━━━━━━━━━━━━━━\u001b[0m\u001b[37m\u001b[0m \u001b[1m1s\u001b[0m 2ms/step - loss: 0.4362 - val_loss: 0.4415\n",
            "Epoch 34/100\n",
            "\u001b[1m221/221\u001b[0m \u001b[32m━━━━━━━━━━━━━━━━━━━━\u001b[0m\u001b[37m\u001b[0m \u001b[1m1s\u001b[0m 3ms/step - loss: 0.4228 - val_loss: 0.4391\n",
            "Epoch 35/100\n",
            "\u001b[1m221/221\u001b[0m \u001b[32m━━━━━━━━━━━━━━━━━━━━\u001b[0m\u001b[37m\u001b[0m \u001b[1m1s\u001b[0m 3ms/step - loss: 0.4217 - val_loss: 0.4365\n",
            "Epoch 36/100\n",
            "\u001b[1m221/221\u001b[0m \u001b[32m━━━━━━━━━━━━━━━━━━━━\u001b[0m\u001b[37m\u001b[0m \u001b[1m1s\u001b[0m 3ms/step - loss: 0.4149 - val_loss: 0.4342\n",
            "Epoch 37/100\n",
            "\u001b[1m221/221\u001b[0m \u001b[32m━━━━━━━━━━━━━━━━━━━━\u001b[0m\u001b[37m\u001b[0m \u001b[1m1s\u001b[0m 2ms/step - loss: 0.4103 - val_loss: 0.4330\n",
            "Epoch 38/100\n",
            "\u001b[1m221/221\u001b[0m \u001b[32m━━━━━━━━━━━━━━━━━━━━\u001b[0m\u001b[37m\u001b[0m \u001b[1m1s\u001b[0m 2ms/step - loss: 0.4420 - val_loss: 0.4312\n",
            "Epoch 39/100\n",
            "\u001b[1m221/221\u001b[0m \u001b[32m━━━━━━━━━━━━━━━━━━━━\u001b[0m\u001b[37m\u001b[0m \u001b[1m0s\u001b[0m 2ms/step - loss: 0.4072 - val_loss: 0.4302\n",
            "Epoch 40/100\n",
            "\u001b[1m221/221\u001b[0m \u001b[32m━━━━━━━━━━━━━━━━━━━━\u001b[0m\u001b[37m\u001b[0m \u001b[1m1s\u001b[0m 2ms/step - loss: 0.4035 - val_loss: 0.4288\n",
            "Epoch 41/100\n",
            "\u001b[1m221/221\u001b[0m \u001b[32m━━━━━━━━━━━━━━━━━━━━\u001b[0m\u001b[37m\u001b[0m \u001b[1m1s\u001b[0m 2ms/step - loss: 0.4037 - val_loss: 0.4275\n",
            "Epoch 42/100\n",
            "\u001b[1m221/221\u001b[0m \u001b[32m━━━━━━━━━━━━━━━━━━━━\u001b[0m\u001b[37m\u001b[0m \u001b[1m1s\u001b[0m 2ms/step - loss: 0.3985 - val_loss: 0.4267\n",
            "Epoch 43/100\n",
            "\u001b[1m221/221\u001b[0m \u001b[32m━━━━━━━━━━━━━━━━━━━━\u001b[0m\u001b[37m\u001b[0m \u001b[1m1s\u001b[0m 2ms/step - loss: 0.4035 - val_loss: 0.4252\n",
            "Epoch 44/100\n",
            "\u001b[1m221/221\u001b[0m \u001b[32m━━━━━━━━━━━━━━━━━━━━\u001b[0m\u001b[37m\u001b[0m \u001b[1m1s\u001b[0m 2ms/step - loss: 0.4158 - val_loss: 0.4235\n",
            "Epoch 45/100\n",
            "\u001b[1m221/221\u001b[0m \u001b[32m━━━━━━━━━━━━━━━━━━━━\u001b[0m\u001b[37m\u001b[0m \u001b[1m1s\u001b[0m 2ms/step - loss: 0.3983 - val_loss: 0.4232\n",
            "Epoch 46/100\n",
            "\u001b[1m221/221\u001b[0m \u001b[32m━━━━━━━━━━━━━━━━━━━━\u001b[0m\u001b[37m\u001b[0m \u001b[1m1s\u001b[0m 2ms/step - loss: 0.3982 - val_loss: 0.4218\n",
            "Epoch 47/100\n",
            "\u001b[1m221/221\u001b[0m \u001b[32m━━━━━━━━━━━━━━━━━━━━\u001b[0m\u001b[37m\u001b[0m \u001b[1m1s\u001b[0m 2ms/step - loss: 0.4015 - val_loss: 0.4214\n",
            "Epoch 48/100\n",
            "\u001b[1m221/221\u001b[0m \u001b[32m━━━━━━━━━━━━━━━━━━━━\u001b[0m\u001b[37m\u001b[0m \u001b[1m0s\u001b[0m 2ms/step - loss: 0.3885 - val_loss: 0.4210\n",
            "Epoch 49/100\n",
            "\u001b[1m221/221\u001b[0m \u001b[32m━━━━━━━━━━━━━━━━━━━━\u001b[0m\u001b[37m\u001b[0m \u001b[1m1s\u001b[0m 2ms/step - loss: 0.3996 - val_loss: 0.4198\n",
            "Epoch 50/100\n",
            "\u001b[1m221/221\u001b[0m \u001b[32m━━━━━━━━━━━━━━━━━━━━\u001b[0m\u001b[37m\u001b[0m \u001b[1m1s\u001b[0m 2ms/step - loss: 0.4052 - val_loss: 0.4192\n",
            "Epoch 51/100\n",
            "\u001b[1m221/221\u001b[0m \u001b[32m━━━━━━━━━━━━━━━━━━━━\u001b[0m\u001b[37m\u001b[0m \u001b[1m1s\u001b[0m 2ms/step - loss: 0.3953 - val_loss: 0.4174\n",
            "Epoch 52/100\n",
            "\u001b[1m221/221\u001b[0m \u001b[32m━━━━━━━━━━━━━━━━━━━━\u001b[0m\u001b[37m\u001b[0m \u001b[1m0s\u001b[0m 2ms/step - loss: 0.4058 - val_loss: 0.4177\n",
            "Epoch 53/100\n",
            "\u001b[1m221/221\u001b[0m \u001b[32m━━━━━━━━━━━━━━━━━━━━\u001b[0m\u001b[37m\u001b[0m \u001b[1m1s\u001b[0m 2ms/step - loss: 0.3868 - val_loss: 0.4179\n",
            "Epoch 54/100\n",
            "\u001b[1m221/221\u001b[0m \u001b[32m━━━━━━━━━━━━━━━━━━━━\u001b[0m\u001b[37m\u001b[0m \u001b[1m1s\u001b[0m 3ms/step - loss: 0.3941 - val_loss: 0.4165\n",
            "Epoch 55/100\n",
            "\u001b[1m221/221\u001b[0m \u001b[32m━━━━━━━━━━━━━━━━━━━━\u001b[0m\u001b[37m\u001b[0m \u001b[1m1s\u001b[0m 3ms/step - loss: 0.3924 - val_loss: 0.4158\n",
            "Epoch 56/100\n",
            "\u001b[1m221/221\u001b[0m \u001b[32m━━━━━━━━━━━━━━━━━━━━\u001b[0m\u001b[37m\u001b[0m \u001b[1m1s\u001b[0m 2ms/step - loss: 0.3945 - val_loss: 0.4147\n",
            "Epoch 57/100\n",
            "\u001b[1m221/221\u001b[0m \u001b[32m━━━━━━━━━━━━━━━━━━━━\u001b[0m\u001b[37m\u001b[0m \u001b[1m0s\u001b[0m 2ms/step - loss: 0.3904 - val_loss: 0.4152\n",
            "Epoch 58/100\n",
            "\u001b[1m221/221\u001b[0m \u001b[32m━━━━━━━━━━━━━━━━━━━━\u001b[0m\u001b[37m\u001b[0m \u001b[1m1s\u001b[0m 2ms/step - loss: 0.3890 - val_loss: 0.4135\n",
            "Epoch 59/100\n",
            "\u001b[1m221/221\u001b[0m \u001b[32m━━━━━━━━━━━━━━━━━━━━\u001b[0m\u001b[37m\u001b[0m \u001b[1m0s\u001b[0m 2ms/step - loss: 0.3771 - val_loss: 0.4130\n",
            "Epoch 60/100\n",
            "\u001b[1m221/221\u001b[0m \u001b[32m━━━━━━━━━━━━━━━━━━━━\u001b[0m\u001b[37m\u001b[0m \u001b[1m1s\u001b[0m 2ms/step - loss: 0.3867 - val_loss: 0.4112\n",
            "Epoch 61/100\n",
            "\u001b[1m221/221\u001b[0m \u001b[32m━━━━━━━━━━━━━━━━━━━━\u001b[0m\u001b[37m\u001b[0m \u001b[1m1s\u001b[0m 2ms/step - loss: 0.3964 - val_loss: 0.4102\n",
            "Epoch 62/100\n",
            "\u001b[1m221/221\u001b[0m \u001b[32m━━━━━━━━━━━━━━━━━━━━\u001b[0m\u001b[37m\u001b[0m \u001b[1m0s\u001b[0m 2ms/step - loss: 0.3868 - val_loss: 0.4095\n",
            "Epoch 63/100\n",
            "\u001b[1m221/221\u001b[0m \u001b[32m━━━━━━━━━━━━━━━━━━━━\u001b[0m\u001b[37m\u001b[0m \u001b[1m1s\u001b[0m 2ms/step - loss: 0.3822 - val_loss: 0.4096\n",
            "Epoch 64/100\n",
            "\u001b[1m221/221\u001b[0m \u001b[32m━━━━━━━━━━━━━━━━━━━━\u001b[0m\u001b[37m\u001b[0m \u001b[1m1s\u001b[0m 2ms/step - loss: 0.3933 - val_loss: 0.4094\n",
            "Epoch 65/100\n",
            "\u001b[1m221/221\u001b[0m \u001b[32m━━━━━━━━━━━━━━━━━━━━\u001b[0m\u001b[37m\u001b[0m \u001b[1m1s\u001b[0m 2ms/step - loss: 0.3888 - val_loss: 0.4087\n",
            "Epoch 66/100\n",
            "\u001b[1m221/221\u001b[0m \u001b[32m━━━━━━━━━━━━━━━━━━━━\u001b[0m\u001b[37m\u001b[0m \u001b[1m1s\u001b[0m 2ms/step - loss: 0.3877 - val_loss: 0.4084\n",
            "Epoch 67/100\n",
            "\u001b[1m221/221\u001b[0m \u001b[32m━━━━━━━━━━━━━━━━━━━━\u001b[0m\u001b[37m\u001b[0m \u001b[1m1s\u001b[0m 2ms/step - loss: 0.3859 - val_loss: 0.4082\n",
            "Epoch 68/100\n",
            "\u001b[1m221/221\u001b[0m \u001b[32m━━━━━━━━━━━━━━━━━━━━\u001b[0m\u001b[37m\u001b[0m \u001b[1m1s\u001b[0m 2ms/step - loss: 0.3773 - val_loss: 0.4084\n",
            "Epoch 69/100\n",
            "\u001b[1m221/221\u001b[0m \u001b[32m━━━━━━━━━━━━━━━━━━━━\u001b[0m\u001b[37m\u001b[0m \u001b[1m1s\u001b[0m 2ms/step - loss: 0.3766 - val_loss: 0.4059\n",
            "Epoch 70/100\n",
            "\u001b[1m221/221\u001b[0m \u001b[32m━━━━━━━━━━━━━━━━━━━━\u001b[0m\u001b[37m\u001b[0m \u001b[1m1s\u001b[0m 2ms/step - loss: 0.3631 - val_loss: 0.4044\n",
            "Epoch 71/100\n",
            "\u001b[1m221/221\u001b[0m \u001b[32m━━━━━━━━━━━━━━━━━━━━\u001b[0m\u001b[37m\u001b[0m \u001b[1m0s\u001b[0m 2ms/step - loss: 0.3862 - val_loss: 0.4056\n",
            "Epoch 72/100\n",
            "\u001b[1m221/221\u001b[0m \u001b[32m━━━━━━━━━━━━━━━━━━━━\u001b[0m\u001b[37m\u001b[0m \u001b[1m1s\u001b[0m 2ms/step - loss: 0.3768 - val_loss: 0.4048\n",
            "Epoch 73/100\n",
            "\u001b[1m221/221\u001b[0m \u001b[32m━━━━━━━━━━━━━━━━━━━━\u001b[0m\u001b[37m\u001b[0m \u001b[1m1s\u001b[0m 3ms/step - loss: 0.3822 - val_loss: 0.4036\n",
            "Epoch 74/100\n",
            "\u001b[1m221/221\u001b[0m \u001b[32m━━━━━━━━━━━━━━━━━━━━\u001b[0m\u001b[37m\u001b[0m \u001b[1m1s\u001b[0m 3ms/step - loss: 0.3949 - val_loss: 0.4033\n",
            "Epoch 75/100\n",
            "\u001b[1m221/221\u001b[0m \u001b[32m━━━━━━━━━━━━━━━━━━━━\u001b[0m\u001b[37m\u001b[0m \u001b[1m1s\u001b[0m 3ms/step - loss: 0.3810 - val_loss: 0.4031\n",
            "Epoch 76/100\n",
            "\u001b[1m221/221\u001b[0m \u001b[32m━━━━━━━━━━━━━━━━━━━━\u001b[0m\u001b[37m\u001b[0m \u001b[1m1s\u001b[0m 2ms/step - loss: 0.3840 - val_loss: 0.4019\n",
            "Epoch 77/100\n",
            "\u001b[1m221/221\u001b[0m \u001b[32m━━━━━━━━━━━━━━━━━━━━\u001b[0m\u001b[37m\u001b[0m \u001b[1m1s\u001b[0m 2ms/step - loss: 0.3714 - val_loss: 0.4027\n",
            "Epoch 78/100\n",
            "\u001b[1m221/221\u001b[0m \u001b[32m━━━━━━━━━━━━━━━━━━━━\u001b[0m\u001b[37m\u001b[0m \u001b[1m1s\u001b[0m 2ms/step - loss: 0.3753 - val_loss: 0.4019\n",
            "Epoch 79/100\n",
            "\u001b[1m221/221\u001b[0m \u001b[32m━━━━━━━━━━━━━━━━━━━━\u001b[0m\u001b[37m\u001b[0m \u001b[1m1s\u001b[0m 2ms/step - loss: 0.3662 - val_loss: 0.4008\n",
            "Epoch 80/100\n",
            "\u001b[1m221/221\u001b[0m \u001b[32m━━━━━━━━━━━━━━━━━━━━\u001b[0m\u001b[37m\u001b[0m \u001b[1m1s\u001b[0m 2ms/step - loss: 0.3731 - val_loss: 0.4003\n",
            "Epoch 81/100\n",
            "\u001b[1m221/221\u001b[0m \u001b[32m━━━━━━━━━━━━━━━━━━━━\u001b[0m\u001b[37m\u001b[0m \u001b[1m1s\u001b[0m 2ms/step - loss: 0.3708 - val_loss: 0.4011\n",
            "Epoch 82/100\n",
            "\u001b[1m221/221\u001b[0m \u001b[32m━━━━━━━━━━━━━━━━━━━━\u001b[0m\u001b[37m\u001b[0m \u001b[1m0s\u001b[0m 2ms/step - loss: 0.3705 - val_loss: 0.3999\n",
            "Epoch 83/100\n",
            "\u001b[1m221/221\u001b[0m \u001b[32m━━━━━━━━━━━━━━━━━━━━\u001b[0m\u001b[37m\u001b[0m \u001b[1m1s\u001b[0m 2ms/step - loss: 0.3769 - val_loss: 0.3994\n",
            "Epoch 84/100\n",
            "\u001b[1m221/221\u001b[0m \u001b[32m━━━━━━━━━━━━━━━━━━━━\u001b[0m\u001b[37m\u001b[0m \u001b[1m1s\u001b[0m 2ms/step - loss: 0.3621 - val_loss: 0.3993\n",
            "Epoch 85/100\n",
            "\u001b[1m221/221\u001b[0m \u001b[32m━━━━━━━━━━━━━━━━━━━━\u001b[0m\u001b[37m\u001b[0m \u001b[1m0s\u001b[0m 2ms/step - loss: 0.3738 - val_loss: 0.3987\n",
            "Epoch 86/100\n",
            "\u001b[1m221/221\u001b[0m \u001b[32m━━━━━━━━━━━━━━━━━━━━\u001b[0m\u001b[37m\u001b[0m \u001b[1m1s\u001b[0m 2ms/step - loss: 0.3790 - val_loss: 0.3971\n",
            "Epoch 87/100\n",
            "\u001b[1m221/221\u001b[0m \u001b[32m━━━━━━━━━━━━━━━━━━━━\u001b[0m\u001b[37m\u001b[0m \u001b[1m1s\u001b[0m 2ms/step - loss: 0.3562 - val_loss: 0.3973\n",
            "Epoch 88/100\n",
            "\u001b[1m221/221\u001b[0m \u001b[32m━━━━━━━━━━━━━━━━━━━━\u001b[0m\u001b[37m\u001b[0m \u001b[1m0s\u001b[0m 2ms/step - loss: 0.3565 - val_loss: 0.3958\n",
            "Epoch 89/100\n",
            "\u001b[1m221/221\u001b[0m \u001b[32m━━━━━━━━━━━━━━━━━━━━\u001b[0m\u001b[37m\u001b[0m \u001b[1m1s\u001b[0m 2ms/step - loss: 0.3821 - val_loss: 0.3969\n",
            "Epoch 90/100\n",
            "\u001b[1m221/221\u001b[0m \u001b[32m━━━━━━━━━━━━━━━━━━━━\u001b[0m\u001b[37m\u001b[0m \u001b[1m1s\u001b[0m 2ms/step - loss: 0.3643 - val_loss: 0.3965\n",
            "Epoch 91/100\n",
            "\u001b[1m221/221\u001b[0m \u001b[32m━━━━━━━━━━━━━━━━━━━━\u001b[0m\u001b[37m\u001b[0m \u001b[1m1s\u001b[0m 2ms/step - loss: 0.3825 - val_loss: 0.3962\n",
            "Epoch 92/100\n",
            "\u001b[1m221/221\u001b[0m \u001b[32m━━━━━━━━━━━━━━━━━━━━\u001b[0m\u001b[37m\u001b[0m \u001b[1m1s\u001b[0m 2ms/step - loss: 0.3553 - val_loss: 0.3946\n",
            "Epoch 93/100\n",
            "\u001b[1m221/221\u001b[0m \u001b[32m━━━━━━━━━━━━━━━━━━━━\u001b[0m\u001b[37m\u001b[0m \u001b[1m0s\u001b[0m 2ms/step - loss: 0.3687 - val_loss: 0.3946\n",
            "Epoch 94/100\n",
            "\u001b[1m221/221\u001b[0m \u001b[32m━━━━━━━━━━━━━━━━━━━━\u001b[0m\u001b[37m\u001b[0m \u001b[1m1s\u001b[0m 3ms/step - loss: 0.3635 - val_loss: 0.3943\n",
            "Epoch 95/100\n",
            "\u001b[1m221/221\u001b[0m \u001b[32m━━━━━━━━━━━━━━━━━━━━\u001b[0m\u001b[37m\u001b[0m \u001b[1m1s\u001b[0m 3ms/step - loss: 0.3625 - val_loss: 0.3928\n",
            "Epoch 96/100\n",
            "\u001b[1m221/221\u001b[0m \u001b[32m━━━━━━━━━━━━━━━━━━━━\u001b[0m\u001b[37m\u001b[0m \u001b[1m1s\u001b[0m 3ms/step - loss: 0.3582 - val_loss: 0.3924\n",
            "Epoch 97/100\n",
            "\u001b[1m221/221\u001b[0m \u001b[32m━━━━━━━━━━━━━━━━━━━━\u001b[0m\u001b[37m\u001b[0m \u001b[1m1s\u001b[0m 3ms/step - loss: 0.3628 - val_loss: 0.3917\n",
            "Epoch 98/100\n",
            "\u001b[1m221/221\u001b[0m \u001b[32m━━━━━━━━━━━━━━━━━━━━\u001b[0m\u001b[37m\u001b[0m \u001b[1m1s\u001b[0m 2ms/step - loss: 0.3626 - val_loss: 0.3918\n",
            "Epoch 99/100\n",
            "\u001b[1m221/221\u001b[0m \u001b[32m━━━━━━━━━━━━━━━━━━━━\u001b[0m\u001b[37m\u001b[0m \u001b[1m1s\u001b[0m 2ms/step - loss: 0.3636 - val_loss: 0.3910\n",
            "Epoch 100/100\n",
            "\u001b[1m221/221\u001b[0m \u001b[32m━━━━━━━━━━━━━━━━━━━━\u001b[0m\u001b[37m\u001b[0m \u001b[1m0s\u001b[0m 2ms/step - loss: 0.3721 - val_loss: 0.3904\n"
          ]
        }
      ],
      "source": [
        "reg_result = regression_model.fit(\n",
        "    x=[x_train_A, x_train_B],\n",
        "    y=[y_train, y_train],\n",
        "    epochs=n_epoch, batch_size=batch_size,\n",
        "    validation_data=([x_val_A, x_val_B], [y_val, y_val])\n",
        ")"
      ]
    },
    {
      "cell_type": "code",
      "execution_count": null,
      "metadata": {
        "colab": {
          "base_uri": "https://localhost:8080/",
          "height": 681
        },
        "id": "q-zusciEEnY6",
        "outputId": "8b90d8c2-2c0e-40b1-a442-6a4ca154b427"
      },
      "outputs": [
        {
          "output_type": "display_data",
          "data": {
            "text/plain": [
              "<Figure size 1500x800 with 1 Axes>"
            ],
            "image/png": "[encoded data removed]"
          },
          "metadata": {}
        }
      ],
      "source": [
        "pd.DataFrame(reg_result.history).plot(figsize=(15, 8))\n",
        "\n",
        "plt.title(\"Performance Result\")\n",
        "plt.xlabel(\"Epochs\")\n",
        "plt.ylabel(\"Scores\")\n",
        "plt.grid(True)\n",
        "plt.show()"
      ]
    },
    {
      "cell_type": "markdown",
      "metadata": {
        "id": "yK0U4l0HSxhH"
      },
      "source": [
        "<font color=\"red\">**- - - - STOP, CEK DULU! - - - -**</font>\n",
        "<br>Sebelum melakukan evaluasi dan penyimpanan model, **pastikan *val_loss* berada dibawah 0.50** dan **tidak terjadi *overfitting***.\n",
        "<br>Silakan ulangi langkah diatas sebagai langkah *hyperparameter tuning* jika terjadi."
      ]
    },
    {
      "cell_type": "markdown",
      "metadata": {
        "id": "8jSNYluQEnY6"
      },
      "source": [
        "> <font color=\"red\"> **(Step 4) Evaluate the Model with Test Data** </font>\n",
        "\n",
        "Lihat dokumentasi **Keras Model.evaluate() method** [**disini**](https://keras.io/api/models/model_training_apis/#evaluate-method)."
      ]
    },
    {
      "cell_type": "code",
      "execution_count": null,
      "metadata": {
        "colab": {
          "base_uri": "https://localhost:8080/"
        },
        "id": "9wScwvLSEnY6",
        "outputId": "b7d01104-120b-4484-a1f5-efc2a71131a8"
      },
      "outputs": [
        {
          "output_type": "stream",
          "name": "stdout",
          "text": [
            "\u001b[1m129/129\u001b[0m \u001b[32m━━━━━━━━━━━━━━━━━━━━\u001b[0m\u001b[37m\u001b[0m \u001b[1m0s\u001b[0m 1ms/step - loss: 0.3819\n"
          ]
        },
        {
          "output_type": "execute_result",
          "data": {
            "text/plain": [
              "0.3806003928184509"
            ]
          },
          "metadata": {},
          "execution_count": 84
        }
      ],
      "source": [
        "regression_model.evaluate([x_test_A, x_test_B], [y_test, y_test])"
      ]
    },
    {
      "cell_type": "markdown",
      "metadata": {
        "id": "aOPhrumNEnY7"
      },
      "source": [
        "> <font color=\"red\"> **(Step 4) Save and Reload the Model** </font>"
      ]
    },
    {
      "cell_type": "code",
      "execution_count": null,
      "metadata": {
        "id": "COnuyhzpEnY7"
      },
      "outputs": [],
      "source": [
        "# TODO: Berikan nama file untuk model, diakhiri dengan ekstensi .keras\n",
        "filename = \"02-Kelompok H-3.keras\"\n",
        "\n",
        "# save the model into your local storage\n",
        "regression_model.save(filename)"
      ]
    },
    {
      "cell_type": "code",
      "execution_count": null,
      "metadata": {
        "colab": {
          "base_uri": "https://localhost:8080/"
        },
        "id": "DzLnNk67EnY8",
        "outputId": "898ae4c9-52f3-4bd6-92d6-46eb06116d40"
      },
      "outputs": [
        {
          "output_type": "stream",
          "name": "stderr",
          "text": [
            "WARNING:tensorflow:5 out of the last 5 calls to <function TensorFlowTrainer.make_predict_function.<locals>.one_step_on_data_distributed at 0x7ecc9fb305e0> triggered tf.function retracing. Tracing is expensive and the excessive number of tracings could be due to (1) creating @tf.function repeatedly in a loop, (2) passing tensors with different shapes, (3) passing Python objects instead of tensors. For (1), please define your @tf.function outside of the loop. For (2), @tf.function has reduce_retracing=True option that can avoid unnecessary retracing. For (3), please refer to https://www.tensorflow.org/guide/function#controlling_retracing and https://www.tensorflow.org/api_docs/python/tf/function for  more details.\n"
          ]
        },
        {
          "output_type": "stream",
          "name": "stdout",
          "text": [
            "\u001b[1m1/1\u001b[0m \u001b[32m━━━━━━━━━━━━━━━━━━━━\u001b[0m\u001b[37m\u001b[0m \u001b[1m0s\u001b[0m 203ms/step\n"
          ]
        },
        {
          "output_type": "execute_result",
          "data": {
            "text/plain": [
              "array([[0.38742024],\n",
              "       [1.8580625 ],\n",
              "       [3.5690095 ]], dtype=float32)"
            ]
          },
          "metadata": {},
          "execution_count": 86
        }
      ],
      "source": [
        "# TODO: Reload model dan lakukan prediksi dengan data baru (x_new_A dan x_new_B)\n",
        "this_model = tf.keras.models.load_model(filename)\n",
        "this_model.predict([x_new_A, x_new_B])"
      ]
    },
    {
      "cell_type": "markdown",
      "metadata": {
        "id": "Kd8Td1YsV23w"
      },
      "source": [
        "### Scoring\n",
        "Total `#TODO` = 10\n",
        "<br>Checklist:\n",
        "\n",
        "- [✔️] Ubah \"features\" dan \"target\" dari Numpy Array ke Pandas DataFrame\n",
        "- [✔️] Pisahkan data menjadi train, validation, dan test\n",
        "- [✔️] Lakukan standarisasi untuk data train, validation, dan test menggunakan StandardScaler()\n",
        "- [✔️] Lakukan normalisasi untuk data train, validation, dan test menggunakan MinMaxScaler()\n",
        "- [✔️] Buat hidden layer pertama dengan 30 neuron dan ReLU sebagai activation function\n",
        "- [✔️] Buat hidden layer kedua dengan 30 neuron dan ReLU sebagai activation function\n",
        "- [✔️] Tentukan jumlah epoch (iterasi)\n",
        "- [✔️] Tentukan jumlah batch\n",
        "- [✔️] Berikan nama file untuk model, diakhiri dengan ekstensi .keras\n",
        "- [✔️] Reload model dan lakukan prediksi dengan data baru (`x_new_A` dan `x_new_B`)"
      ]
    },
    {
      "cell_type": "markdown",
      "metadata": {
        "id": "nu54eCVrV23w"
      },
      "source": [
        "### Additional readings\n",
        "- N/A"
      ]
    },
    {
      "cell_type": "markdown",
      "metadata": {
        "id": "8lozabSPV23w"
      },
      "source": [
        "### Copyright © 2024 Startup Campus, Indonesia\n",
        "* Prepared by **Nicholas Dominic, M.Kom.** [(profile)](https://linkedin.com/in/nicholas-dominic)\n",
        "* You may **NOT** use this file except there is written permission from PT. Kampus Merdeka Belajar (Startup Campus).\n",
        "* Please address your questions to mentors."
      ]
    }
  ],
  "metadata": {
    "accelerator": "GPU",
    "colab": {
      "gpuType": "T4",
      "provenance": []
    },
    "kernelspec": {
      "display_name": "Python 3",
      "name": "python3"
    },
    "language_info": {
      "codemirror_mode": {
        "name": "ipython",
        "version": 3
      },
      "file_extension": ".py",
      "mimetype": "text/x-python",
      "name": "python",
      "nbconvert_exporter": "python",
      "pygments_lexer": "ipython3",
      "version": "3.11.9"
    }
  },
  "nbformat": 4,
  "nbformat_minor": 0
}